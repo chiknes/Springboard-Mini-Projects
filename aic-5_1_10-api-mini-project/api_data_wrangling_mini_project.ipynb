{
 "cells": [
  {
   "cell_type": "markdown",
   "metadata": {},
   "source": [
    "This exercise will require you to pull some data from the Qunadl API. Qaundl is currently the most widely used aggregator of financial market data."
   ]
  },
  {
   "cell_type": "markdown",
   "metadata": {},
   "source": [
    "As a first step, you will need to register a free account on the http://www.quandl.com website."
   ]
  },
  {
   "cell_type": "markdown",
   "metadata": {},
   "source": [
    "After you register, you will be provided with a unique API key, that you should store:"
   ]
  },
  {
   "cell_type": "code",
   "execution_count": 3,
   "metadata": {
    "collapsed": true
   },
   "outputs": [],
   "source": [
    "# Store the API key as a string - according to PEP8, constants are always named in all upper case\n",
    "API_KEY = 'mBS6VUxWSNzant3YLUQk'"
   ]
  },
  {
   "cell_type": "markdown",
   "metadata": {},
   "source": [
    "Qaundl has a large number of data sources, but, unfortunately, most of them require a Premium subscription. Still, there are also a good number of free datasets."
   ]
  },
  {
   "cell_type": "markdown",
   "metadata": {},
   "source": [
    "For this mini project, we will focus on equities data from the Frankfurt Stock Exhange (FSE), which is available for free. We'll try and analyze the stock prices of a company called Carl Zeiss Meditec, which manufactures tools for eye examinations, as well as medical lasers for laser eye surgery: https://www.zeiss.com/meditec/int/home.html. The company is listed under the stock ticker AFX_X."
   ]
  },
  {
   "cell_type": "markdown",
   "metadata": {},
   "source": [
    "You can find the detailed Quandl API instructions here: https://docs.quandl.com/docs/time-series"
   ]
  },
  {
   "cell_type": "markdown",
   "metadata": {},
   "source": [
    "While there is a dedicated Python package for connecting to the Quandl API, we would prefer that you use the *requests* package, which can be easily downloaded using *pip* or *conda*. You can find the documentation for the package here: http://docs.python-requests.org/en/master/ "
   ]
  },
  {
   "cell_type": "markdown",
   "metadata": {},
   "source": [
    "Finally, apart from the *requests* package, you are encouraged to not use any third party Python packages, such as *pandas*, and instead focus on what's available in the Python Standard Library (the *collections* module might come in handy: https://pymotw.com/3/collections/).\n",
    "Also, since you won't have access to DataFrames, you are encouraged to us Python's native data structures - preferably dictionaries, though some questions can also be answered using lists.\n",
    "You can read more on these data structures here: https://docs.python.org/3/tutorial/datastructures.html"
   ]
  },
  {
   "cell_type": "markdown",
   "metadata": {},
   "source": [
    "Keep in mind that the JSON responses you will be getting from the API map almost one-to-one to Python's dictionaries. Unfortunately, they can be very nested, so make sure you read up on indexing dictionaries in the documentation provided above."
   ]
  },
  {
   "cell_type": "code",
   "execution_count": 4,
   "metadata": {
    "collapsed": true
   },
   "outputs": [],
   "source": [
    "# First, import the relevant modules\n",
    "import requests\n",
    "import json\n",
    "from datetime import datetime, timedelta\n"
   ]
  },
  {
   "cell_type": "code",
   "execution_count": 14,
   "metadata": {},
   "outputs": [
    {
     "data": {
      "text/plain": [
       "{'collapse': None,\n",
       " 'column_index': None,\n",
       " 'column_names': ['Date',\n",
       "  'Open',\n",
       "  'High',\n",
       "  'Low',\n",
       "  'Close',\n",
       "  'Change',\n",
       "  'Traded Volume',\n",
       "  'Turnover',\n",
       "  'Last Price of the Day',\n",
       "  'Daily Traded Units',\n",
       "  'Daily Turnover'],\n",
       " 'data': [['2017-01-02',\n",
       "   34.99,\n",
       "   35.94,\n",
       "   34.99,\n",
       "   35.8,\n",
       "   None,\n",
       "   44700.0,\n",
       "   1590561.0,\n",
       "   None,\n",
       "   None,\n",
       "   None]],\n",
       " 'end_date': '2017-01-02',\n",
       " 'frequency': 'daily',\n",
       " 'limit': None,\n",
       " 'order': 'asc',\n",
       " 'start_date': '2017-01-01',\n",
       " 'transform': None}"
      ]
     },
     "execution_count": 14,
     "metadata": {},
     "output_type": "execute_result"
    }
   ],
   "source": [
    "# Now, call the Quandl API and pull out a small sample of the data (only one day) to get a glimpse\n",
    "# into the JSON structure that will be returned\n",
    "\n",
    "QUANDL_URL = \"https://www.quandl.com/api/v3/datasets/FSE/AFX_X/data.json?api_key=%s&start_date=2017-01-01&end_date=2017-01-02&order=asc\" % API_KEY\n",
    "response = requests.get(QUANDL_URL).json()['dataset_data']\n",
    "response"
   ]
  },
  {
   "cell_type": "code",
   "execution_count": 13,
   "metadata": {},
   "outputs": [
    {
     "data": {
      "text/plain": [
       "['Date',\n",
       " 'Open',\n",
       " 'High',\n",
       " 'Low',\n",
       " 'Close',\n",
       " 'Change',\n",
       " 'Traded Volume',\n",
       " 'Turnover',\n",
       " 'Last Price of the Day',\n",
       " 'Daily Traded Units',\n",
       " 'Daily Turnover']"
      ]
     },
     "execution_count": 13,
     "metadata": {},
     "output_type": "execute_result"
    }
   ],
   "source": [
    "# Inspect the JSON structure of the object you created, and take note of how nested it is,\n",
    "# as well as the overall structure\n",
    "column_names = response['column_names']\n",
    "print(column_names)\n",
    "\n",
    "data = response['data']\n",
    "print(data)\n"
   ]
  },
  {
   "cell_type": "markdown",
   "metadata": {},
   "source": [
    "These are your tasks for this mini project:\n",
    "\n",
    "1. Collect data from the Franfurt Stock Exchange, for the ticker AFX_X, for the whole year 2017 (keep in mind that the date format is YYYY-MM-DD).\n",
    "2. Convert the returned JSON object into a Python dictionary.\n",
    "3. Calculate what the highest and lowest opening prices were for the stock in this period.\n",
    "4. What was the largest change in any one day (based on High and Low price)?\n",
    "5. What was the largest change between any two days (based on Closing Price)?\n",
    "6. What was the average daily trading volume during this year?\n",
    "7. (Optional) What was the median trading volume during this year. (Note: you may need to implement your own function for calculating the median.)"
   ]
  },
  {
   "cell_type": "code",
   "execution_count": 15,
   "metadata": {
    "collapsed": true
   },
   "outputs": [],
   "source": [
    "# Collect data from the Franfurt Stock Exchange, for the ticker AFX_X, for the whole year 2017 (keep in mind that the date format is YYYY-MM-DD).\n",
    "QUANDL_URL = \"https://www.quandl.com/api/v3/datasets/FSE/AFX_X/data.json?api_key=%s&start_date=2017-01-01&end_date=2017-12-31&order=asc\" % API_KEY\n"
   ]
  },
  {
   "cell_type": "code",
   "execution_count": null,
   "metadata": {
    "collapsed": true
   },
   "outputs": [],
   "source": [
    "# Convert the returned JSON object into a Python dictionary.\n",
    "response = requests.get(QUANDL_URL).json()['dataset_data']\n",
    "data = response[\"data\"]"
   ]
  },
  {
   "cell_type": "code",
   "execution_count": 57,
   "metadata": {},
   "outputs": [
    {
     "name": "stdout",
     "output_type": "stream",
     "text": [
      "Highest Opening Price: $53.54\n",
      "Lowest Opening Price: $33.62\n"
     ]
    }
   ],
   "source": [
    "# Calculate what the highest and lowest opening prices were for the stock in this period\n",
    "highest_open = 0\n",
    "lowest_open = 0\n",
    "max_diff_days = 0\n",
    "trading_vols = []\n",
    "\n",
    "\n",
    "for record in data:\n",
    "    high = record[2]\n",
    "    low = record[3]\n",
    "    trading_vol = record[6]\n",
    "    diff = high - low\n",
    "    \n",
    "    #set highest open\n",
    "    if high > highest_open:\n",
    "        highest_open = high\n",
    "        \n",
    "    #set lowest open\n",
    "    if lowest_open == 0:\n",
    "        lowest_open = low\n",
    "    elif low < lowest_open:\n",
    "        lowest_open = low\n",
    "print(\"Highest Opening Price: ${:,.2f}\".format(highest_open))\n",
    "print(\"Lowest Opening Price: ${:,.2f}\".format(lowest_open))"
   ]
  },
  {
   "cell_type": "code",
   "execution_count": 58,
   "metadata": {},
   "outputs": [
    {
     "name": "stdout",
     "output_type": "stream",
     "text": [
      "Largest change in one data: $2.81\n"
     ]
    }
   ],
   "source": [
    "# What was the largest change in any one day (based on High and Low price)?\n",
    "max_diff = 0\n",
    "for record in data:\n",
    "    high = record[2]\n",
    "    low = record[3]\n",
    "    diff = high - low\n",
    "        #set diff\n",
    "    if diff > max_diff:\n",
    "        max_diff = diff\n",
    "print(\"Largest change in one data: ${:,.2f}\".format(max_diff))"
   ]
  },
  {
   "cell_type": "code",
   "execution_count": 64,
   "metadata": {},
   "outputs": [
    {
     "name": "stdout",
     "output_type": "stream",
     "text": [
      "Largest change between two days: $2.28\n"
     ]
    }
   ],
   "source": [
    "# What was the largest change between any two days (based on Closing Price)?\n",
    "two_day_changes = []\n",
    "largest_change_two_days = 0\n",
    "\n",
    "for i in range(len(data) - 2):\n",
    "    closing = data[i][4]\n",
    "    closing_two_days = data[i + 2][4]\n",
    "\n",
    "    two_day_changes.append(closing_two_days - closing)\n",
    "\n",
    "largest_change_two_days = max(two_day_changes)\n",
    "\n",
    "print(\"Largest change between two days: ${:,.2f}\".format(largest_change_two_days))"
   ]
  },
  {
   "cell_type": "code",
   "execution_count": 69,
   "metadata": {},
   "outputs": [
    {
     "name": "stdout",
     "output_type": "stream",
     "text": [
      "Average trading volume: 89124.34\n"
     ]
    }
   ],
   "source": [
    "# What was the average daily trading volume during this year?\n",
    "tot_trading_vol = 0\n",
    "avg_trading_vol = 0\n",
    "trading_vol = []\n",
    "\n",
    "for record in data:\n",
    "    daily_trading_vol = record[6]\n",
    "    trading_vol.append(daily_trading_vol)\n",
    "    tot_trading_vol = tot_trading_vol + daily_trading_vol\n",
    "\n",
    "avg_trading_vol = tot_trading_vol/len(data)\n",
    "print(\"Average trading volume: {:.2f}\".format(avg_trading_vol))"
   ]
  },
  {
   "cell_type": "code",
   "execution_count": 71,
   "metadata": {},
   "outputs": [
    {
     "name": "stdout",
     "output_type": "stream",
     "text": [
      "Median trading volume:136112.0\n"
     ]
    }
   ],
   "source": [
    "# (Optional) What was the median trading volume during this year. (Note: you may need to implement your own function for calculating the median.)\n",
    "median = trading_vol[round(len(data)/2)]\n",
    "print('Median trading volume:{}'.format(median))"
   ]
  }
 ],
 "metadata": {
  "kernelspec": {
   "display_name": "Python 3",
   "language": "python",
   "name": "python3"
  },
  "language_info": {
   "codemirror_mode": {
    "name": "ipython",
    "version": 3
   },
   "file_extension": ".py",
   "mimetype": "text/x-python",
   "name": "python",
   "nbconvert_exporter": "python",
   "pygments_lexer": "ipython3",
   "version": "3.6.2"
  }
 },
 "nbformat": 4,
 "nbformat_minor": 2
}
