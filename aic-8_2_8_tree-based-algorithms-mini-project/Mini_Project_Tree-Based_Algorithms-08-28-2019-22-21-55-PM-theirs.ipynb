{
 "cells": [
  {
   "cell_type": "markdown",
   "metadata": {},
   "source": [
    "# Mini Project: Tree-Based Algorithms"
   ]
  },
  {
   "cell_type": "markdown",
   "metadata": {},
   "source": [
    "## The \"German Credit\" Dataset"
   ]
  },
  {
   "cell_type": "markdown",
   "metadata": {},
   "source": [
    "### Dataset Details"
   ]
  },
  {
   "cell_type": "markdown",
   "metadata": {},
   "source": [
    "This dataset has two classes (these would be considered labels in Machine Learning terms) to describe the worthiness of a personal loan: \"Good\" or \"Bad\". There are predictors related to attributes, such as: checking account status, duration, credit history, purpose of the loan, amount of the loan, savings accounts or bonds, employment duration, installment rate in percentage of disposable income, personal information, other debtors/guarantors, residence duration, property, age, other installment plans, housing, number of existing credits, job information, number of people being liable to provide maintenance for, telephone, and foreign worker status.\n",
    "\n",
    "Many of these predictors are discrete and have been expanded into several 0/1 indicator variables (a.k.a. they have been one-hot-encoded).\n",
    "\n",
    "This dataset has been kindly provided by Professor Dr. Hans Hofmann of the University of Hamburg, and can also be found on the UCI Machine Learning Repository."
   ]
  },
  {
   "cell_type": "markdown",
   "metadata": {},
   "source": [
    "\n",
    "\n",
    "\n"
   ]
  },
  {
   "cell_type": "markdown",
   "metadata": {},
   "source": [
    "## Decision Trees"
   ]
  },
  {
   "cell_type": "markdown",
   "metadata": {},
   "source": [
    " As we have learned in the previous lectures, Decision Trees as a family of algorithms (irrespective to the particular implementation) are powerful algorithms that can produce models with a predictive accuracy higher than that produced by linear models, such as Linear or Logistic Regression. Primarily, this is due to the fact the DT's can model nonlinear relationships, and also have a number of tuning paramters, that allow for the practicioner to achieve the best possible model. An added bonus is the ability to visualize the trained Decision Tree model, which allows for some insight into how the model has produced the predictions that it has. One caveat here, to keep in mind, is that sometimes, due to the size of the dataset (both in the sense of the number of records, as well as the number of features), the visualization might prove to be very large and complex, increasing the difficulty of interpretation."
   ]
  },
  {
   "cell_type": "markdown",
   "metadata": {},
   "source": [
    "To give you a very good example of how Decision Trees can be visualized and interpreted, we would strongly recommend that, before continuing on with solving the problems in this Mini Project, you take the time to read this fanstastic, detailed and informative blog post: http://explained.ai/decision-tree-viz/index.html"
   ]
  },
  {
   "cell_type": "markdown",
   "metadata": {},
   "source": [
    "## Building Your First Decision Tree Model"
   ]
  },
  {
   "cell_type": "markdown",
   "metadata": {},
   "source": [
    "So, now it's time to jump straight into the heart of the matter. Your first task, is to build a Decision Tree model, using the aforementioned \"German Credit\" dataset, which contains 1,000 records, and 62 columns (one of them presents the labels, and the other 61 present the potential features for the model.)"
   ]
  },
  {
   "cell_type": "markdown",
   "metadata": {},
   "source": [
    "For this task, you will be using the scikit-learn library, which comes already pre-installed with the Anaconda Python distribution. In case you're not using that, you can easily install it using pip."
   ]
  },
  {
   "cell_type": "markdown",
   "metadata": {},
   "source": [
    "Before embarking on creating your first model, we would strongly encourage you to read the short tutorial for Decision Trees in scikit-learn (http://scikit-learn.org/stable/modules/tree.html), and then dive a bit deeper into the documentation of the algorithm itself (http://scikit-learn.org/stable/modules/generated/sklearn.tree.DecisionTreeClassifier.html). "
   ]
  },
  {
   "cell_type": "markdown",
   "metadata": {},
   "source": [
    "Also, since you want to be able to present the results of your model, we suggest you take a look at the tutorial for accuracy metrics for classification models (http://scikit-learn.org/stable/modules/model_evaluation.html#classification-report) as well as the more detailed documentation (http://scikit-learn.org/stable/modules/generated/sklearn.metrics.classification_report.html).\n",
    "\n",
    "Finally, an *amazing* resource that explains the various classification model accuracy metrics, as well as the relationships between them, can be found on Wikipedia: https://en.wikipedia.org/wiki/Confusion_matrix"
   ]
  },
  {
   "cell_type": "markdown",
   "metadata": {},
   "source": [
    "(Note: as you've already learned in the Logistic Regression mini project, a standard practice in Machine Learning for achieving the best possible result when training a model is to use hyperparameter tuning, through Grid Search and k-fold Cross Validation. We strongly encourage you to use it here as well, not just because it's standard practice, but also becuase it's not going to be computationally to intensive, due to the size of the dataset that you're working with. Our suggestion here is that you split the data into 70% training, and 30% testing. Then, do the hyperparameter tuning and Cross Validation on the training set, and afterwards to a final test on the testing set.)"
   ]
  },
  {
   "cell_type": "markdown",
   "metadata": {},
   "source": [
    "### Now we pass the torch onto you! You can start building your first Decision Tree model! :)"
   ]
  },
  {
   "cell_type": "code",
   "execution_count": 7,
   "metadata": {},
   "outputs": [],
   "source": [
    "import pandas as pd\n",
    "from sklearn.tree import DecisionTreeClassifier\n",
    "from sklearn.metrics import classification_report\n",
    "from sklearn.model_selection import train_test_split\n",
    "from sklearn.model_selection import GridSearchCV\n",
    "import numpy as np\n",
    "import matplotlib as mpl\n",
    "import matplotlib.pyplot as plt"
   ]
  },
  {
   "cell_type": "code",
   "execution_count": 44,
   "metadata": {},
   "outputs": [],
   "source": [
    "# Your code here! :)\n",
    "data = pd.read_csv(\"GermanCredit.csv\")\n",
    "data.head()\n",
    "\n",
    "#seperate dataframe into features and target\n",
    "Y = data[\"Class\"]\n",
    "X = data.drop([\"Class\"], axis=1)\n",
    "\n",
    "#split into training sets\n",
    "X_train, X_test, Y_train, Y_test = train_test_split(X, Y, test_size = .3)\n",
    "\n",
    "#initialize and fit tree\n",
    "clf = DecisionTreeClassifier()\n",
    "clf = clf.fit(X_train,Y_train)"
   ]
  },
  {
   "cell_type": "code",
   "execution_count": 9,
   "metadata": {
    "scrolled": true
   },
   "outputs": [
    {
     "name": "stdout",
     "output_type": "stream",
     "text": [
      "              precision    recall  f1-score   support\n",
      "\n",
      "         Bad       0.50      0.50      0.50       100\n",
      "        Good       0.75      0.75      0.75       200\n",
      "\n",
      "    accuracy                           0.67       300\n",
      "   macro avg       0.62      0.62      0.62       300\n",
      "weighted avg       0.67      0.67      0.67       300\n",
      "\n"
     ]
    }
   ],
   "source": [
    "#Stats on intial prediction\n",
    "predictions = clf.predict(X_test)\n",
    "print(classification_report(Y_test,predictions))"
   ]
  },
  {
   "cell_type": "code",
   "execution_count": 10,
   "metadata": {},
   "outputs": [
    {
     "data": {
      "text/plain": [
       "0.6666666666666666"
      ]
     },
     "execution_count": 10,
     "metadata": {},
     "output_type": "execute_result"
    }
   ],
   "source": [
    "clf.score(X_test, Y_test)"
   ]
  },
  {
   "cell_type": "code",
   "execution_count": 12,
   "metadata": {
    "scrolled": true
   },
   "outputs": [
    {
     "data": {
      "text/plain": [
       "{'class_weight': None,\n",
       " 'criterion': 'gini',\n",
       " 'max_depth': None,\n",
       " 'max_features': None,\n",
       " 'max_leaf_nodes': None,\n",
       " 'min_impurity_decrease': 0.0,\n",
       " 'min_impurity_split': None,\n",
       " 'min_samples_leaf': 1,\n",
       " 'min_samples_split': 2,\n",
       " 'min_weight_fraction_leaf': 0.0,\n",
       " 'presort': False,\n",
       " 'random_state': None,\n",
       " 'splitter': 'best'}"
      ]
     },
     "execution_count": 12,
     "metadata": {},
     "output_type": "execute_result"
    }
   ],
   "source": [
    "clf.get_params()"
   ]
  },
  {
   "cell_type": "code",
   "execution_count": 29,
   "metadata": {
    "scrolled": true
   },
   "outputs": [
    {
     "data": {
      "text/plain": [
       "0.76"
      ]
     },
     "execution_count": 29,
     "metadata": {},
     "output_type": "execute_result"
    }
   ],
   "source": [
    "parameters={'min_samples_split' : range(10,500,20),'max_depth': range(1,20,2)}\n",
    "clf_tree=DecisionTreeClassifier()\n",
    "clf = GridSearchCV(clf_tree,parameters, cv=5)\n",
    "clf.fit(X,Y)\n",
    "clf.score(X_test,Y_test)"
   ]
  },
  {
   "cell_type": "code",
   "execution_count": 30,
   "metadata": {},
   "outputs": [
    {
     "name": "stdout",
     "output_type": "stream",
     "text": [
      "              precision    recall  f1-score   support\n",
      "\n",
      "         Bad       0.66      0.59      0.62       100\n",
      "        Good       0.80      0.84      0.82       200\n",
      "\n",
      "    accuracy                           0.76       300\n",
      "   macro avg       0.73      0.72      0.72       300\n",
      "weighted avg       0.76      0.76      0.76       300\n",
      "\n"
     ]
    }
   ],
   "source": [
    "print(classification_report(Y_test,clf.predict(X_test)))"
   ]
  },
  {
   "cell_type": "markdown",
   "metadata": {},
   "source": [
    "### After you've built the best model you can, now it's time to visualize it!"
   ]
  },
  {
   "cell_type": "markdown",
   "metadata": {},
   "source": [
    "Rememeber that amazing blog post from a few paragraphs ago, that demonstrated how to visualize and interpret the results of your Decision Tree model. We've seen that this can perform very well, but let's see how it does on the \"German Credit\" dataset that we're working on, due to it being a bit larger than the one used by the blog authors."
   ]
  },
  {
   "cell_type": "markdown",
   "metadata": {},
   "source": [
    "First, we're going to need to install their package. If you're using Anaconda, this can be done easily by running:"
   ]
  },
  {
   "cell_type": "code",
   "execution_count": 31,
   "metadata": {},
   "outputs": [
    {
     "name": "stdout",
     "output_type": "stream",
     "text": [
      "Requirement already satisfied: dtreeviz in c:\\users\\jovin\\anaconda3\\lib\\site-packages (0.6)\n",
      "Requirement already satisfied: colour in c:\\users\\jovin\\anaconda3\\lib\\site-packages (from dtreeviz) (0.1.5)\n",
      "Requirement already satisfied: graphviz>=0.9 in c:\\users\\jovin\\anaconda3\\lib\\site-packages (from dtreeviz) (0.12)\n",
      "Requirement already satisfied: pandas in c:\\users\\jovin\\anaconda3\\lib\\site-packages (from dtreeviz) (0.24.2)\n",
      "Requirement already satisfied: numpy in c:\\users\\jovin\\anaconda3\\lib\\site-packages (from dtreeviz) (1.16.4)\n",
      "Requirement already satisfied: scikit-learn in c:\\users\\jovin\\anaconda3\\lib\\site-packages (from dtreeviz) (0.21.3)\n",
      "Requirement already satisfied: matplotlib in c:\\users\\jovin\\anaconda3\\lib\\site-packages (from dtreeviz) (3.1.1)\n",
      "Requirement already satisfied: pytz>=2011k in c:\\users\\jovin\\anaconda3\\lib\\site-packages (from pandas->dtreeviz) (2019.1)\n",
      "Requirement already satisfied: python-dateutil>=2.5.0 in c:\\users\\jovin\\anaconda3\\lib\\site-packages (from pandas->dtreeviz) (2.8.0)\n",
      "Requirement already satisfied: scipy>=0.17.0 in c:\\users\\jovin\\anaconda3\\lib\\site-packages (from scikit-learn->dtreeviz) (1.3.0)\n",
      "Requirement already satisfied: joblib>=0.11 in c:\\users\\jovin\\anaconda3\\lib\\site-packages (from scikit-learn->dtreeviz) (0.13.2)\n",
      "Requirement already satisfied: cycler>=0.10 in c:\\users\\jovin\\anaconda3\\lib\\site-packages (from matplotlib->dtreeviz) (0.10.0)\n",
      "Requirement already satisfied: pyparsing!=2.0.4,!=2.1.2,!=2.1.6,>=2.0.1 in c:\\users\\jovin\\anaconda3\\lib\\site-packages (from matplotlib->dtreeviz) (2.4.0)\n",
      "Requirement already satisfied: kiwisolver>=1.0.1 in c:\\users\\jovin\\anaconda3\\lib\\site-packages (from matplotlib->dtreeviz) (1.1.0)\n",
      "Requirement already satisfied: six>=1.5 in c:\\users\\jovin\\appdata\\roaming\\python\\python37\\site-packages (from python-dateutil>=2.5.0->pandas->dtreeviz) (1.12.0)\n",
      "Requirement already satisfied: setuptools in c:\\users\\jovin\\anaconda3\\lib\\site-packages (from kiwisolver>=1.0.1->matplotlib->dtreeviz) (41.0.1)\n"
     ]
    },
    {
     "name": "stderr",
     "output_type": "stream",
     "text": [
      "WARNING: You are using pip version 19.2.2, however version 19.2.3 is available.\n",
      "You should consider upgrading via the 'python -m pip install --upgrade pip' command.\n"
     ]
    }
   ],
   "source": [
    "! pip install dtreeviz"
   ]
  },
  {
   "cell_type": "markdown",
   "metadata": {},
   "source": [
    "If for any reason this way of installing doesn't work for you straight out of the box, please refer to the more detailed documentation here: https://github.com/parrt/dtreeviz"
   ]
  },
  {
   "cell_type": "markdown",
   "metadata": {},
   "source": [
    "Now you're ready to visualize your Decision Tree model! Please feel free to use the blog post for guidance and inspiration!"
   ]
  },
  {
   "cell_type": "code",
   "execution_count": 48,
   "metadata": {},
   "outputs": [
    {
     "ename": "KeyError",
     "evalue": "'Bad'",
     "output_type": "error",
     "traceback": [
      "\u001b[1;31m---------------------------------------------------------------------------\u001b[0m",
      "\u001b[1;31mKeyError\u001b[0m                                  Traceback (most recent call last)",
      "\u001b[1;32m<ipython-input-48-faad70d21059>\u001b[0m in \u001b[0;36m<module>\u001b[1;34m\u001b[0m\n\u001b[0;32m      5\u001b[0m                \u001b[0mclass_names\u001b[0m\u001b[1;33m=\u001b[0m\u001b[1;33m[\u001b[0m\u001b[1;34m\"Good\"\u001b[0m\u001b[1;33m,\u001b[0m\u001b[1;34m\"Bad\"\u001b[0m\u001b[1;33m]\u001b[0m\u001b[1;33m,\u001b[0m\u001b[1;33m\u001b[0m\u001b[1;33m\u001b[0m\u001b[0m\n\u001b[0;32m      6\u001b[0m                \u001b[0mtarget_name\u001b[0m\u001b[1;33m=\u001b[0m\u001b[1;34m'Credit Rating'\u001b[0m\u001b[1;33m,\u001b[0m\u001b[1;33m\u001b[0m\u001b[1;33m\u001b[0m\u001b[0m\n\u001b[1;32m----> 7\u001b[1;33m                \u001b[0mfeature_names\u001b[0m\u001b[1;33m=\u001b[0m\u001b[0mdata\u001b[0m\u001b[1;33m.\u001b[0m\u001b[0mcolumns\u001b[0m\u001b[1;33m\u001b[0m\u001b[1;33m\u001b[0m\u001b[0m\n\u001b[0m\u001b[0;32m      8\u001b[0m               )\n\u001b[0;32m      9\u001b[0m \u001b[0mviz\u001b[0m\u001b[1;33m\u001b[0m\u001b[1;33m\u001b[0m\u001b[0m\n",
      "\u001b[1;32m~\\Anaconda3\\lib\\site-packages\\dtreeviz\\trees.py\u001b[0m in \u001b[0;36mdtreeviz\u001b[1;34m(tree_model, X_train, y_train, feature_names, target_name, class_names, precision, orientation, show_root_edge_labels, show_node_labels, fancy, histtype, highlight_path, X, max_X_features_LR, max_X_features_TD, label_fontsize, ticks_fontsize, fontname, colors)\u001b[0m\n\u001b[0;32m    703\u001b[0m         \u001b[0mclass_values\u001b[0m \u001b[1;33m=\u001b[0m \u001b[0mshadow_tree\u001b[0m\u001b[1;33m.\u001b[0m\u001b[0munique_target_values\u001b[0m\u001b[1;33m\u001b[0m\u001b[1;33m\u001b[0m\u001b[0m\n\u001b[0;32m    704\u001b[0m         \u001b[0mcolor_map\u001b[0m \u001b[1;33m=\u001b[0m \u001b[1;33m{\u001b[0m\u001b[0mv\u001b[0m\u001b[1;33m:\u001b[0m \u001b[0mcolor_values\u001b[0m\u001b[1;33m[\u001b[0m\u001b[0mi\u001b[0m\u001b[1;33m]\u001b[0m \u001b[1;32mfor\u001b[0m \u001b[0mi\u001b[0m\u001b[1;33m,\u001b[0m \u001b[0mv\u001b[0m \u001b[1;32min\u001b[0m \u001b[0menumerate\u001b[0m\u001b[1;33m(\u001b[0m\u001b[0mclass_values\u001b[0m\u001b[1;33m)\u001b[0m\u001b[1;33m}\u001b[0m\u001b[1;33m\u001b[0m\u001b[1;33m\u001b[0m\u001b[0m\n\u001b[1;32m--> 705\u001b[1;33m         \u001b[0mdraw_legend\u001b[0m\u001b[1;33m(\u001b[0m\u001b[0mshadow_tree\u001b[0m\u001b[1;33m,\u001b[0m \u001b[0mtarget_name\u001b[0m\u001b[1;33m,\u001b[0m \u001b[1;34mf\"{tmp}/legend_{os.getpid()}.svg\"\u001b[0m\u001b[1;33m,\u001b[0m \u001b[0mcolors\u001b[0m\u001b[1;33m=\u001b[0m\u001b[0mcolors\u001b[0m\u001b[1;33m)\u001b[0m\u001b[1;33m\u001b[0m\u001b[1;33m\u001b[0m\u001b[0m\n\u001b[0m\u001b[0;32m    706\u001b[0m \u001b[1;33m\u001b[0m\u001b[0m\n\u001b[0;32m    707\u001b[0m     \u001b[0my_range\u001b[0m \u001b[1;33m=\u001b[0m \u001b[1;33m(\u001b[0m\u001b[0mmin\u001b[0m\u001b[1;33m(\u001b[0m\u001b[0my_train\u001b[0m\u001b[1;33m)\u001b[0m\u001b[1;33m*\u001b[0m\u001b[1;36m1.03\u001b[0m\u001b[1;33m,\u001b[0m \u001b[0mmax\u001b[0m\u001b[1;33m(\u001b[0m\u001b[0my_train\u001b[0m\u001b[1;33m)\u001b[0m\u001b[1;33m*\u001b[0m\u001b[1;36m1.03\u001b[0m\u001b[1;33m)\u001b[0m \u001b[1;31m# same y axis for all\u001b[0m\u001b[1;33m\u001b[0m\u001b[1;33m\u001b[0m\u001b[0m\n",
      "\u001b[1;32m~\\Anaconda3\\lib\\site-packages\\dtreeviz\\trees.py\u001b[0m in \u001b[0;36mdraw_legend\u001b[1;34m(shadow_tree, target_name, filename, colors)\u001b[0m\n\u001b[0;32m   1115\u001b[0m     \u001b[1;32mfor\u001b[0m \u001b[0mi\u001b[0m\u001b[1;33m,\u001b[0m \u001b[0mc\u001b[0m \u001b[1;32min\u001b[0m \u001b[0menumerate\u001b[0m\u001b[1;33m(\u001b[0m\u001b[0mclass_values\u001b[0m\u001b[1;33m)\u001b[0m\u001b[1;33m:\u001b[0m\u001b[1;33m\u001b[0m\u001b[1;33m\u001b[0m\u001b[0m\n\u001b[0;32m   1116\u001b[0m         box = patches.Rectangle((0, 0), 20, 10, linewidth=.4, edgecolor=colors['rect_edge'],\n\u001b[1;32m-> 1117\u001b[1;33m                                 facecolor=color_map[c], label=class_names[c])\n\u001b[0m\u001b[0;32m   1118\u001b[0m         \u001b[0mboxes\u001b[0m\u001b[1;33m.\u001b[0m\u001b[0mappend\u001b[0m\u001b[1;33m(\u001b[0m\u001b[0mbox\u001b[0m\u001b[1;33m)\u001b[0m\u001b[1;33m\u001b[0m\u001b[1;33m\u001b[0m\u001b[0m\n\u001b[0;32m   1119\u001b[0m \u001b[1;33m\u001b[0m\u001b[0m\n",
      "\u001b[1;31mKeyError\u001b[0m: 'Bad'"
     ]
    }
   ],
   "source": [
    "from dtreeviz.trees import *\n",
    "viz = dtreeviz(clf,\n",
    "               X,\n",
    "               Y,\n",
    "               class_names=[\"Good\",\"Bad\"],\n",
    "               target_name='Credit Rating',\n",
    "               feature_names=data.columns\n",
    "              )\n",
    "viz"
   ]
  },
  {
   "cell_type": "code",
   "execution_count": 47,
   "metadata": {},
   "outputs": [
    {
     "data": {
      "text/plain": [
       "Index(['Duration', 'Amount', 'InstallmentRatePercentage', 'ResidenceDuration',\n",
       "       'Age', 'NumberExistingCredits', 'NumberPeopleMaintenance', 'Telephone',\n",
       "       'ForeignWorker', 'Class', 'CheckingAccountStatus.lt.0',\n",
       "       'CheckingAccountStatus.0.to.200', 'CheckingAccountStatus.gt.200',\n",
       "       'CheckingAccountStatus.none', 'CreditHistory.NoCredit.AllPaid',\n",
       "       'CreditHistory.ThisBank.AllPaid', 'CreditHistory.PaidDuly',\n",
       "       'CreditHistory.Delay', 'CreditHistory.Critical', 'Purpose.NewCar',\n",
       "       'Purpose.UsedCar', 'Purpose.Furniture.Equipment',\n",
       "       'Purpose.Radio.Television', 'Purpose.DomesticAppliance',\n",
       "       'Purpose.Repairs', 'Purpose.Education', 'Purpose.Vacation',\n",
       "       'Purpose.Retraining', 'Purpose.Business', 'Purpose.Other',\n",
       "       'SavingsAccountBonds.lt.100', 'SavingsAccountBonds.100.to.500',\n",
       "       'SavingsAccountBonds.500.to.1000', 'SavingsAccountBonds.gt.1000',\n",
       "       'SavingsAccountBonds.Unknown', 'EmploymentDuration.lt.1',\n",
       "       'EmploymentDuration.1.to.4', 'EmploymentDuration.4.to.7',\n",
       "       'EmploymentDuration.gt.7', 'EmploymentDuration.Unemployed',\n",
       "       'Personal.Male.Divorced.Seperated', 'Personal.Female.NotSingle',\n",
       "       'Personal.Male.Single', 'Personal.Male.Married.Widowed',\n",
       "       'Personal.Female.Single', 'OtherDebtorsGuarantors.None',\n",
       "       'OtherDebtorsGuarantors.CoApplicant',\n",
       "       'OtherDebtorsGuarantors.Guarantor', 'Property.RealEstate',\n",
       "       'Property.Insurance', 'Property.CarOther', 'Property.Unknown',\n",
       "       'OtherInstallmentPlans.Bank', 'OtherInstallmentPlans.Stores',\n",
       "       'OtherInstallmentPlans.None', 'Housing.Rent', 'Housing.Own',\n",
       "       'Housing.ForFree', 'Job.UnemployedUnskilled', 'Job.UnskilledResident',\n",
       "       'Job.SkilledEmployee', 'Job.Management.SelfEmp.HighlyQualified'],\n",
       "      dtype='object')"
      ]
     },
     "execution_count": 47,
     "metadata": {},
     "output_type": "execute_result"
    }
   ],
   "source": [
    "data."
   ]
  },
  {
   "cell_type": "markdown",
   "metadata": {},
   "source": [
    "## Random Forests"
   ]
  },
  {
   "cell_type": "markdown",
   "metadata": {},
   "source": [
    "As discussed in the lecture videos, Decision Tree algorithms also have certain undesireable properties. Mainly the have low bias, which is good, but tend to have high variance - which is *not* so good (more about this problem here: https://en.wikipedia.org/wiki/Bias%E2%80%93variance_tradeoff)."
   ]
  },
  {
   "cell_type": "markdown",
   "metadata": {},
   "source": [
    "Noticing these problems, the late Professor Leo Breiman, in 2001, developed the Random Forests algorithm, which mitigates these problems, while at the same time providing even higher predictive accuracy than the majority of Decision Tree algorithm implementations. While the curriculum contains two excellent lectures on Random Forests, if you're interested, you can dive into the original paper here: https://link.springer.com/content/pdf/10.1023%2FA%3A1010933404324.pdf."
   ]
  },
  {
   "cell_type": "markdown",
   "metadata": {},
   "source": [
    "In the next part of this assignment, your are going to use the same \"German Credit\" dataset to train, tune, and measure the performance of a Random Forests model. You will also see certain functionalities that this model, even though it's a bit of a \"black box\", provides for some degree of interpretability."
   ]
  },
  {
   "cell_type": "markdown",
   "metadata": {},
   "source": [
    "First, let's build a Random Forests model, using the same best practices that you've used for your Decision Trees model. You can reuse the things you've already imported there, so no need to do any re-imports, new train/test splits, or loading up the data again."
   ]
  },
  {
   "cell_type": "code",
   "execution_count": null,
   "metadata": {},
   "outputs": [],
   "source": [
    "from sklearn.ensemble import RandomForestClassifier"
   ]
  },
  {
   "cell_type": "code",
   "execution_count": null,
   "metadata": {},
   "outputs": [],
   "source": [
    "# Your code here! :)"
   ]
  },
  {
   "cell_type": "markdown",
   "metadata": {},
   "source": [
    "As mentioned, there are certain ways to \"peek\" into a model created by the Random Forests algorithm. The first, and most popular one, is the Feature Importance calculation functionality. This allows the ML practitioner to see an ordering of the importance of the features that have contributed the most to the predictive accuracy of the model. \n",
    "\n",
    "You can see how to use this in the scikit-learn documentation (http://scikit-learn.org/stable/modules/generated/sklearn.ensemble.RandomForestClassifier.html#sklearn.ensemble.RandomForestClassifier.feature_importances_). Now, if you tried this, you would just get an ordered table of not directly interpretable numeric values. Thus, it's much more useful to show the feature importance in a visual way. You can see an example of how that's done here: http://scikit-learn.org/stable/auto_examples/ensemble/plot_forest_importances.html#sphx-glr-auto-examples-ensemble-plot-forest-importances-py\n",
    "\n",
    "Now you try! Let's visualize the importance of features from your Random Forests model!"
   ]
  },
  {
   "cell_type": "code",
   "execution_count": null,
   "metadata": {},
   "outputs": [],
   "source": [
    "# Your code here"
   ]
  },
  {
   "cell_type": "markdown",
   "metadata": {},
   "source": [
    "A final method for gaining some insight into the inner working of your Random Forests models is a so-called Partial Dependence Plot. The Partial Dependence Plot (PDP or PD plot) shows the marginal effect of a feature on the predicted outcome of a previously fit model. The prediction function is fixed at a few values of the chosen features and averaged over the other features. A partial dependence plot can show if the relationship between the target and a feature is linear, monotonic or more complex. \n",
    "\n",
    "In scikit-learn, PDPs are implemented and available for certain algorithms, but at this point (version 0.20.0) they are not yet implemented for Random Forests. Thankfully, there is an add-on package called **PDPbox** (https://pdpbox.readthedocs.io/en/latest/) which adds this functionality to Random Forests. The package is easy to install through pip."
   ]
  },
  {
   "cell_type": "code",
   "execution_count": null,
   "metadata": {},
   "outputs": [],
   "source": [
    "! pip install pdpbox"
   ]
  },
  {
   "cell_type": "markdown",
   "metadata": {},
   "source": [
    "While we encourage you to read the documentation for the package (and reading package documentation in general is a good habit to develop), the authors of the package have also written an excellent blog post on how to use it, showing examples on different algorithms from scikit-learn (the Random Forests example is towards the end of the blog post): https://briangriner.github.io/Partial_Dependence_Plots_presentation-BrianGriner-PrincetonPublicLibrary-4.14.18-updated-4.22.18.html"
   ]
  },
  {
   "cell_type": "markdown",
   "metadata": {},
   "source": [
    "So, armed with this new knowledge, feel free to pick a few features, and make a couple of Partial Dependence Plots of your own!"
   ]
  },
  {
   "cell_type": "code",
   "execution_count": null,
   "metadata": {},
   "outputs": [],
   "source": [
    "# Your code here!"
   ]
  },
  {
   "cell_type": "markdown",
   "metadata": {},
   "source": [
    "## (Optional) Advanced Boosting-Based Algorithms"
   ]
  },
  {
   "cell_type": "markdown",
   "metadata": {},
   "source": [
    "As explained in the video lectures, the next generation of algorithms after Random Forests (that use Bagging, a.k.a. Bootstrap Aggregation) were developed using Boosting, and the first one of these were Gradient Boosted Machines, which are implemented in scikit-learn (http://scikit-learn.org/stable/modules/ensemble.html#gradient-tree-boosting)."
   ]
  },
  {
   "cell_type": "markdown",
   "metadata": {},
   "source": [
    "Still, in recent years, a number of variations on GBMs have been developed by different research amd industry groups, all of them bringing improvements, both in speed, accuracy and functionality to the original Gradient Boosting algorithms.\n",
    "\n",
    "In no order of preference, these are:\n",
    "1. **XGBoost**: https://xgboost.readthedocs.io/en/latest/\n",
    "2. **CatBoost**: https://tech.yandex.com/catboost/\n",
    "3. **LightGBM**: https://lightgbm.readthedocs.io/en/latest/"
   ]
  },
  {
   "cell_type": "markdown",
   "metadata": {},
   "source": [
    "If you're using the Anaconda distribution, these are all very easy to install:"
   ]
  },
  {
   "cell_type": "code",
   "execution_count": null,
   "metadata": {},
   "outputs": [],
   "source": [
    "! conda install -c anaconda py-xgboost"
   ]
  },
  {
   "cell_type": "code",
   "execution_count": null,
   "metadata": {},
   "outputs": [],
   "source": [
    "! conda install -c conda-forge catboost"
   ]
  },
  {
   "cell_type": "code",
   "execution_count": null,
   "metadata": {},
   "outputs": [],
   "source": [
    "! conda install -c conda-forge lightgbm"
   ]
  },
  {
   "cell_type": "markdown",
   "metadata": {},
   "source": [
    "Your task in this optional section of the mini project is to read the documentation of these three libraries, and apply all of them to the \"German Credit\" dataset, just like you did in the case of Decision Trees and Random Forests."
   ]
  },
  {
   "cell_type": "markdown",
   "metadata": {},
   "source": [
    "The final deliverable of this section should be a table (can be a pandas DataFrame) which shows the accuracy of all the five algorthms taught in this mini project in one place."
   ]
  },
  {
   "cell_type": "markdown",
   "metadata": {},
   "source": [
    "Happy modeling! :)"
   ]
  },
  {
   "cell_type": "code",
   "execution_count": null,
   "metadata": {},
   "outputs": [],
   "source": []
  }
 ],
 "metadata": {
  "kernelspec": {
   "display_name": "Python 3",
   "language": "python",
   "name": "python3"
  },
  "language_info": {
   "codemirror_mode": {
    "name": "ipython",
    "version": 3
   },
   "file_extension": ".py",
   "mimetype": "text/x-python",
   "name": "python",
   "nbconvert_exporter": "python",
   "pygments_lexer": "ipython3",
   "version": "3.7.3"
  }
 },
 "nbformat": 4,
 "nbformat_minor": 2
}
